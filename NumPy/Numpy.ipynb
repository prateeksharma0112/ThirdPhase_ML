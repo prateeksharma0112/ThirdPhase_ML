{
 "cells": [
  {
   "cell_type": "markdown",
   "id": "3fb7972a",
   "metadata": {},
   "source": [
    "# Numpy\n",
    "- It is a numerical computing library for python.\n",
    "- Numpy supports muti-dimensional arrays and matrices.\n",
    "- It has lot of inbuilt Mathematical Functions."
   ]
  },
  {
   "cell_type": "code",
   "execution_count": 6,
   "id": "a2f0d802",
   "metadata": {},
   "outputs": [
    {
     "name": "stdout",
     "output_type": "stream",
     "text": [
      "Requirement already satisfied: numpy in /home/fnp/anaconda3/lib/python3.9/site-packages (1.21.5)\n",
      "\u001b[33mWARNING: There was an error checking the latest version of pip.\u001b[0m\u001b[33m\n",
      "\u001b[0m"
     ]
    }
   ],
   "source": [
    "# installing numpy library\n",
    "! pip install numpy"
   ]
  },
  {
   "cell_type": "code",
   "execution_count": 1,
   "id": "5b927491",
   "metadata": {},
   "outputs": [],
   "source": [
    "# importing numpy as np\n",
    "import numpy as np"
   ]
  },
  {
   "cell_type": "markdown",
   "id": "66a84d86",
   "metadata": {},
   "source": [
    "# Why Numpy\n",
    "- performs fast operations (because of vectorization)\n",
    "- numpy arrays can be treated as vectors and matrices from linear algebra"
   ]
  },
  {
   "cell_type": "code",
   "execution_count": 10,
   "id": "d7b4ddd7",
   "metadata": {},
   "outputs": [],
   "source": [
    "lst = [1,2,3,4,5,6,7,8,9,10]"
   ]
  },
  {
   "cell_type": "code",
   "execution_count": 14,
   "id": "8d806121",
   "metadata": {},
   "outputs": [
    {
     "name": "stdout",
     "output_type": "stream",
     "text": [
      "1.73 µs ± 53.6 ns per loop (mean ± std. dev. of 7 runs, 1000000 loops each)\n"
     ]
    }
   ],
   "source": [
    "# % => for magic function, timeit => to calculate time taken\n",
    "%timeit [i**2 for i in lst]"
   ]
  },
  {
   "cell_type": "code",
   "execution_count": 15,
   "id": "5752c459",
   "metadata": {},
   "outputs": [],
   "source": [
    "# numpy array are fast\n",
    "arr = np.array(lst)"
   ]
  },
  {
   "cell_type": "code",
   "execution_count": 16,
   "id": "5ed96f05",
   "metadata": {},
   "outputs": [
    {
     "data": {
      "text/plain": [
       "array([ 1,  2,  3,  4,  5,  6,  7,  8,  9, 10])"
      ]
     },
     "execution_count": 16,
     "metadata": {},
     "output_type": "execute_result"
    }
   ],
   "source": [
    "arr"
   ]
  },
  {
   "cell_type": "code",
   "execution_count": 17,
   "id": "04426e1c",
   "metadata": {},
   "outputs": [
    {
     "name": "stdout",
     "output_type": "stream",
     "text": [
      "417 ns ± 0.998 ns per loop (mean ± std. dev. of 7 runs, 1000000 loops each)\n"
     ]
    }
   ],
   "source": [
    "%timeit arr**2"
   ]
  },
  {
   "cell_type": "code",
   "execution_count": 18,
   "id": "32a3d481",
   "metadata": {},
   "outputs": [
    {
     "data": {
      "text/plain": [
       "[1, 2, 3, 4, 5, 6, 7, 8, 9, 10]"
      ]
     },
     "execution_count": 18,
     "metadata": {},
     "output_type": "execute_result"
    }
   ],
   "source": [
    "lst"
   ]
  },
  {
   "cell_type": "code",
   "execution_count": 20,
   "id": "767bf53a",
   "metadata": {},
   "outputs": [
    {
     "data": {
      "text/plain": [
       "[1, 2, 3, 4, 5, 6, 7, 8, 9, 10, 1]"
      ]
     },
     "execution_count": 20,
     "metadata": {},
     "output_type": "execute_result"
    }
   ],
   "source": [
    "# if i want to add 10 to each element of this vector\n",
    "lst + [1]"
   ]
  },
  {
   "cell_type": "code",
   "execution_count": 21,
   "id": "1726b5da",
   "metadata": {},
   "outputs": [
    {
     "data": {
      "text/plain": [
       "array([11, 12, 13, 14, 15, 16, 17, 18, 19, 20])"
      ]
     },
     "execution_count": 21,
     "metadata": {},
     "output_type": "execute_result"
    }
   ],
   "source": [
    "# Possible in Numpy Array\n",
    "arr + 10"
   ]
  },
  {
   "cell_type": "markdown",
   "id": "8c9261b2",
   "metadata": {},
   "source": [
    "# Numpy Basics\n",
    "<b>array</b> : fundamental element in numpy is homogenous array. Numpy arrays can be 1D, 2D, 3D,.... nD.\n",
    "- Different ways to create numpy array\n",
    "    1. np.array()\n",
    "    2. np.arrange()\n"
   ]
  },
  {
   "cell_type": "code",
   "execution_count": 22,
   "id": "99e64294",
   "metadata": {},
   "outputs": [],
   "source": [
    "l = [1,2,3,4,5]"
   ]
  },
  {
   "cell_type": "code",
   "execution_count": 23,
   "id": "2618467b",
   "metadata": {},
   "outputs": [],
   "source": [
    "np_array = np.array(l)"
   ]
  },
  {
   "cell_type": "code",
   "execution_count": 24,
   "id": "0d6c427f",
   "metadata": {},
   "outputs": [
    {
     "name": "stdout",
     "output_type": "stream",
     "text": [
      "[1 2 3 4 5]\n"
     ]
    }
   ],
   "source": [
    "print(np_array)"
   ]
  },
  {
   "cell_type": "code",
   "execution_count": 25,
   "id": "4cabca8f",
   "metadata": {},
   "outputs": [
    {
     "data": {
      "text/plain": [
       "array([1, 2, 3, 4, 5])"
      ]
     },
     "execution_count": 25,
     "metadata": {},
     "output_type": "execute_result"
    }
   ],
   "source": [
    "np_array"
   ]
  },
  {
   "cell_type": "code",
   "execution_count": 26,
   "id": "d0353ad3",
   "metadata": {},
   "outputs": [
    {
     "data": {
      "text/plain": [
       "numpy.ndarray"
      ]
     },
     "execution_count": 26,
     "metadata": {},
     "output_type": "execute_result"
    }
   ],
   "source": [
    "type(np_array)"
   ]
  },
  {
   "cell_type": "code",
   "execution_count": 27,
   "id": "94069cc8",
   "metadata": {},
   "outputs": [
    {
     "data": {
      "text/plain": [
       "1"
      ]
     },
     "execution_count": 27,
     "metadata": {},
     "output_type": "execute_result"
    }
   ],
   "source": [
    "# type = > numpy.ndarray is general for n dimensional array\n",
    "# to check dimension, there is property called ndim.\n",
    "np_array.ndim"
   ]
  },
  {
   "cell_type": "code",
   "execution_count": 29,
   "id": "67792ce6",
   "metadata": {},
   "outputs": [
    {
     "data": {
      "text/plain": [
       "(5,)"
      ]
     },
     "execution_count": 29,
     "metadata": {},
     "output_type": "execute_result"
    }
   ],
   "source": [
    "# shape tells => no. of elements and dimension (important property)\n",
    "np_array.shape"
   ]
  },
  {
   "cell_type": "markdown",
   "id": "c85816c2",
   "metadata": {},
   "source": [
    "<b> Another way of Creating Array </b>"
   ]
  },
  {
   "cell_type": "code",
   "execution_count": 31,
   "id": "4000a964",
   "metadata": {},
   "outputs": [
    {
     "data": {
      "text/plain": [
       "array([ 1,  2,  3,  4,  5,  6,  7,  8,  9, 10])"
      ]
     },
     "execution_count": 31,
     "metadata": {},
     "output_type": "execute_result"
    }
   ],
   "source": [
    "new_arr = np.arange(1,11)\n",
    "new_arr"
   ]
  },
  {
   "cell_type": "code",
   "execution_count": 32,
   "id": "f6232e44",
   "metadata": {},
   "outputs": [
    {
     "data": {
      "text/plain": [
       "array([ 1,  4,  7, 10])"
      ]
     },
     "execution_count": 32,
     "metadata": {},
     "output_type": "execute_result"
    }
   ],
   "source": [
    "new_arr = np.arange(1,11,3)\n",
    "new_arr"
   ]
  },
  {
   "cell_type": "code",
   "execution_count": 33,
   "id": "dc5fa89e",
   "metadata": {},
   "outputs": [],
   "source": [
    "lst_2d = [[1,2,3],[4,5,6],[7,8,9]]"
   ]
  },
  {
   "cell_type": "code",
   "execution_count": 34,
   "id": "e96298b2",
   "metadata": {},
   "outputs": [
    {
     "data": {
      "text/plain": [
       "array([[1, 2, 3],\n",
       "       [4, 5, 6],\n",
       "       [7, 8, 9]])"
      ]
     },
     "execution_count": 34,
     "metadata": {},
     "output_type": "execute_result"
    }
   ],
   "source": [
    "arr_2d = np.array(lst_2d)\n",
    "arr_2d"
   ]
  },
  {
   "cell_type": "code",
   "execution_count": 35,
   "id": "d65ea949",
   "metadata": {},
   "outputs": [
    {
     "data": {
      "text/plain": [
       "2"
      ]
     },
     "execution_count": 35,
     "metadata": {},
     "output_type": "execute_result"
    }
   ],
   "source": [
    "arr_2d.ndim"
   ]
  },
  {
   "cell_type": "code",
   "execution_count": 37,
   "id": "a9926f21",
   "metadata": {},
   "outputs": [
    {
     "data": {
      "text/plain": [
       "(3, 3)"
      ]
     },
     "execution_count": 37,
     "metadata": {},
     "output_type": "execute_result"
    }
   ],
   "source": [
    "# (rows,column)\n",
    "arr_2d.shape"
   ]
  },
  {
   "cell_type": "markdown",
   "id": "c07bdf50",
   "metadata": {},
   "source": [
    "# Special Arrays in Numpy\n",
    "1. zeros()\n",
    "2. ones()\n",
    "3. diag()\n",
    "4. identity()"
   ]
  },
  {
   "cell_type": "code",
   "execution_count": 41,
   "id": "c0815c3a",
   "metadata": {},
   "outputs": [
    {
     "data": {
      "text/plain": [
       "array([[0., 0., 0., 0.],\n",
       "       [0., 0., 0., 0.],\n",
       "       [0., 0., 0., 0.],\n",
       "       [0., 0., 0., 0.]])"
      ]
     },
     "execution_count": 41,
     "metadata": {},
     "output_type": "execute_result"
    }
   ],
   "source": [
    "np.zeros((4,4))"
   ]
  },
  {
   "cell_type": "code",
   "execution_count": 42,
   "id": "81b40391",
   "metadata": {},
   "outputs": [
    {
     "data": {
      "text/plain": [
       "array([0., 0., 0., 0., 0., 0.])"
      ]
     },
     "execution_count": 42,
     "metadata": {},
     "output_type": "execute_result"
    }
   ],
   "source": [
    "np.zeros(6)"
   ]
  },
  {
   "cell_type": "code",
   "execution_count": 43,
   "id": "7867a2e0",
   "metadata": {},
   "outputs": [
    {
     "data": {
      "text/plain": [
       "array([[1., 1., 1.],\n",
       "       [1., 1., 1.],\n",
       "       [1., 1., 1.]])"
      ]
     },
     "execution_count": 43,
     "metadata": {},
     "output_type": "execute_result"
    }
   ],
   "source": [
    "np.ones((3,3))"
   ]
  },
  {
   "cell_type": "code",
   "execution_count": 44,
   "id": "d7d9cfad",
   "metadata": {},
   "outputs": [
    {
     "data": {
      "text/plain": [
       "array([[4, 0, 0],\n",
       "       [0, 5, 0],\n",
       "       [0, 0, 6]])"
      ]
     },
     "execution_count": 44,
     "metadata": {},
     "output_type": "execute_result"
    }
   ],
   "source": [
    "np.diag([4,5,6])"
   ]
  },
  {
   "cell_type": "code",
   "execution_count": 45,
   "id": "218ecfea",
   "metadata": {},
   "outputs": [
    {
     "data": {
      "text/plain": [
       "array([[1., 0., 0., 0., 0.],\n",
       "       [0., 1., 0., 0., 0.],\n",
       "       [0., 0., 1., 0., 0.],\n",
       "       [0., 0., 0., 1., 0.],\n",
       "       [0., 0., 0., 0., 1.]])"
      ]
     },
     "execution_count": 45,
     "metadata": {},
     "output_type": "execute_result"
    }
   ],
   "source": [
    "# identity matrix\n",
    "np.identity(5)"
   ]
  },
  {
   "cell_type": "markdown",
   "id": "a42475ab",
   "metadata": {},
   "source": [
    "# Indexing In Array"
   ]
  },
  {
   "cell_type": "code",
   "execution_count": 9,
   "id": "28b19e12",
   "metadata": {},
   "outputs": [
    {
     "data": {
      "text/plain": [
       "16"
      ]
     },
     "execution_count": 9,
     "metadata": {},
     "output_type": "execute_result"
    }
   ],
   "source": [
    "# for generating random number\n",
    "np.random.randint(10,20)"
   ]
  },
  {
   "cell_type": "code",
   "execution_count": 10,
   "id": "e916f2c9",
   "metadata": {},
   "outputs": [],
   "source": [
    "new_arr = np.random.randint(0,10,(3,3))"
   ]
  },
  {
   "cell_type": "code",
   "execution_count": 11,
   "id": "0a930417",
   "metadata": {},
   "outputs": [
    {
     "data": {
      "text/plain": [
       "array([[3, 6, 3],\n",
       "       [8, 4, 5],\n",
       "       [8, 6, 3]])"
      ]
     },
     "execution_count": 11,
     "metadata": {},
     "output_type": "execute_result"
    }
   ],
   "source": [
    "new_arr"
   ]
  },
  {
   "cell_type": "code",
   "execution_count": 12,
   "id": "c2a264c3",
   "metadata": {},
   "outputs": [
    {
     "data": {
      "text/plain": [
       "array([3, 6, 3])"
      ]
     },
     "execution_count": 12,
     "metadata": {},
     "output_type": "execute_result"
    }
   ],
   "source": [
    "# first row\n",
    "new_arr[0]"
   ]
  },
  {
   "cell_type": "code",
   "execution_count": 13,
   "id": "7a3a22f1",
   "metadata": {},
   "outputs": [
    {
     "data": {
      "text/plain": [
       "array([8, 4, 5])"
      ]
     },
     "execution_count": 13,
     "metadata": {},
     "output_type": "execute_result"
    }
   ],
   "source": [
    "# second row\n",
    "new_arr[1]"
   ]
  },
  {
   "cell_type": "code",
   "execution_count": 14,
   "id": "2627099b",
   "metadata": {},
   "outputs": [
    {
     "data": {
      "text/plain": [
       "array([8, 6, 3])"
      ]
     },
     "execution_count": 14,
     "metadata": {},
     "output_type": "execute_result"
    }
   ],
   "source": [
    "# last row\n",
    "new_arr[-1]"
   ]
  },
  {
   "cell_type": "code",
   "execution_count": 15,
   "id": "017d7377",
   "metadata": {},
   "outputs": [
    {
     "data": {
      "text/plain": [
       "3"
      ]
     },
     "execution_count": 15,
     "metadata": {},
     "output_type": "execute_result"
    }
   ],
   "source": [
    "# first element\n",
    "new_arr[0, 0]"
   ]
  },
  {
   "cell_type": "code",
   "execution_count": 16,
   "id": "ec368cf9",
   "metadata": {},
   "outputs": [
    {
     "data": {
      "text/plain": [
       "6"
      ]
     },
     "execution_count": 16,
     "metadata": {},
     "output_type": "execute_result"
    }
   ],
   "source": [
    "# second last element\n",
    "new_arr[2, 1]"
   ]
  },
  {
   "cell_type": "markdown",
   "id": "87abb984",
   "metadata": {},
   "source": [
    "<h3>Array Slicing </h3>"
   ]
  },
  {
   "cell_type": "code",
   "execution_count": 21,
   "id": "2db3ee7e",
   "metadata": {},
   "outputs": [],
   "source": [
    "new_arr = np.random.randint(0, 10, (5,5))"
   ]
  },
  {
   "cell_type": "code",
   "execution_count": 22,
   "id": "9a930593",
   "metadata": {},
   "outputs": [
    {
     "data": {
      "text/plain": [
       "array([[0, 5, 0, 6, 2],\n",
       "       [6, 5, 5, 9, 7],\n",
       "       [0, 5, 8, 9, 7],\n",
       "       [1, 1, 1, 9, 7],\n",
       "       [6, 9, 2, 6, 9]])"
      ]
     },
     "execution_count": 22,
     "metadata": {},
     "output_type": "execute_result"
    }
   ],
   "source": [
    "new_arr"
   ]
  },
  {
   "cell_type": "code",
   "execution_count": 23,
   "id": "5d54f903",
   "metadata": {},
   "outputs": [
    {
     "data": {
      "text/plain": [
       "array([[5, 5, 9],\n",
       "       [5, 8, 9],\n",
       "       [1, 1, 9]])"
      ]
     },
     "execution_count": 23,
     "metadata": {},
     "output_type": "execute_result"
    }
   ],
   "source": [
    "# syntax => arr[start row index : end row index + 1, start column index : end column index + 1]\n",
    "new_arr[1:4,1:4]"
   ]
  },
  {
   "cell_type": "code",
   "execution_count": 31,
   "id": "2754d11a",
   "metadata": {},
   "outputs": [
    {
     "data": {
      "text/plain": [
       "array([6, 9, 9, 9, 6])"
      ]
     },
     "execution_count": 31,
     "metadata": {},
     "output_type": "execute_result"
    }
   ],
   "source": [
    "# fourth column \n",
    "# same as new_arr[0:5,3:4]\n",
    "new_arr[:,3]"
   ]
  },
  {
   "cell_type": "markdown",
   "id": "0ca5647c",
   "metadata": {},
   "source": [
    "<h3>Masking</h3>"
   ]
  },
  {
   "cell_type": "code",
   "execution_count": 3,
   "id": "60dd99a8",
   "metadata": {},
   "outputs": [],
   "source": [
    "new_arr = np.random.randint(0, 10, (5,5))"
   ]
  },
  {
   "cell_type": "code",
   "execution_count": 4,
   "id": "b61b1765",
   "metadata": {},
   "outputs": [
    {
     "data": {
      "text/plain": [
       "array([[2, 6, 3, 3, 3],\n",
       "       [7, 2, 3, 5, 4],\n",
       "       [4, 1, 8, 5, 5],\n",
       "       [8, 5, 7, 2, 8],\n",
       "       [9, 1, 4, 6, 8]])"
      ]
     },
     "execution_count": 4,
     "metadata": {},
     "output_type": "execute_result"
    }
   ],
   "source": [
    "new_arr"
   ]
  },
  {
   "cell_type": "code",
   "execution_count": 5,
   "id": "49204174",
   "metadata": {},
   "outputs": [],
   "source": [
    "mask = new_arr > 5"
   ]
  },
  {
   "cell_type": "code",
   "execution_count": 6,
   "id": "99639d05",
   "metadata": {},
   "outputs": [
    {
     "data": {
      "text/plain": [
       "array([[False,  True, False, False, False],\n",
       "       [ True, False, False, False, False],\n",
       "       [False, False,  True, False, False],\n",
       "       [ True, False,  True, False,  True],\n",
       "       [ True, False, False,  True,  True]])"
      ]
     },
     "execution_count": 6,
     "metadata": {},
     "output_type": "execute_result"
    }
   ],
   "source": [
    "mask"
   ]
  },
  {
   "cell_type": "code",
   "execution_count": 7,
   "id": "343b263d",
   "metadata": {},
   "outputs": [
    {
     "data": {
      "text/plain": [
       "9"
      ]
     },
     "execution_count": 7,
     "metadata": {},
     "output_type": "execute_result"
    }
   ],
   "source": [
    "np.sum(mask)"
   ]
  },
  {
   "cell_type": "code",
   "execution_count": 8,
   "id": "bb531076",
   "metadata": {},
   "outputs": [
    {
     "data": {
      "text/plain": [
       "array([6, 7, 8, 8, 7, 8, 9, 6, 8])"
      ]
     },
     "execution_count": 8,
     "metadata": {},
     "output_type": "execute_result"
    }
   ],
   "source": [
    "# all the elements greater than 5\n",
    "new_arr[mask]"
   ]
  },
  {
   "cell_type": "code",
   "execution_count": 9,
   "id": "8c460a9d",
   "metadata": {},
   "outputs": [
    {
     "data": {
      "text/plain": [
       "array([[2, 6, 3, 3, 3],\n",
       "       [7, 2, 3, 5, 4],\n",
       "       [4, 1, 8, 5, 5],\n",
       "       [8, 5, 7, 2, 8],\n",
       "       [9, 1, 4, 6, 8]])"
      ]
     },
     "execution_count": 9,
     "metadata": {},
     "output_type": "execute_result"
    }
   ],
   "source": [
    "new_arr"
   ]
  },
  {
   "cell_type": "code",
   "execution_count": 10,
   "id": "3b8f6d2e",
   "metadata": {},
   "outputs": [],
   "source": [
    "# assign one value to array\n",
    "new_arr[0,0] = 0"
   ]
  },
  {
   "cell_type": "code",
   "execution_count": 11,
   "id": "92e6fa01",
   "metadata": {},
   "outputs": [
    {
     "data": {
      "text/plain": [
       "array([[0, 6, 3, 3, 3],\n",
       "       [7, 2, 3, 5, 4],\n",
       "       [4, 1, 8, 5, 5],\n",
       "       [8, 5, 7, 2, 8],\n",
       "       [9, 1, 4, 6, 8]])"
      ]
     },
     "execution_count": 11,
     "metadata": {},
     "output_type": "execute_result"
    }
   ],
   "source": [
    "new_arr"
   ]
  },
  {
   "cell_type": "code",
   "execution_count": 12,
   "id": "a4a78eae",
   "metadata": {},
   "outputs": [],
   "source": [
    "# assign multiple values\n",
    "new_arr[2:,2:] = 27"
   ]
  },
  {
   "cell_type": "code",
   "execution_count": 13,
   "id": "f0b6b550",
   "metadata": {},
   "outputs": [
    {
     "data": {
      "text/plain": [
       "array([[ 0,  6,  3,  3,  3],\n",
       "       [ 7,  2,  3,  5,  4],\n",
       "       [ 4,  1, 27, 27, 27],\n",
       "       [ 8,  5, 27, 27, 27],\n",
       "       [ 9,  1, 27, 27, 27]])"
      ]
     },
     "execution_count": 13,
     "metadata": {},
     "output_type": "execute_result"
    }
   ],
   "source": [
    "new_arr"
   ]
  },
  {
   "cell_type": "markdown",
   "id": "3b63c278",
   "metadata": {},
   "source": [
    "# Basic Operations In Arrays"
   ]
  },
  {
   "cell_type": "code",
   "execution_count": 14,
   "id": "aac1a3ed",
   "metadata": {},
   "outputs": [],
   "source": [
    "a = np.array([10,20,30,40,50])\n",
    "b = np.arange(1,6)"
   ]
  },
  {
   "cell_type": "code",
   "execution_count": 15,
   "id": "eb9e88e9",
   "metadata": {},
   "outputs": [
    {
     "data": {
      "text/plain": [
       "array([10, 20, 30, 40, 50])"
      ]
     },
     "execution_count": 15,
     "metadata": {},
     "output_type": "execute_result"
    }
   ],
   "source": [
    "a"
   ]
  },
  {
   "cell_type": "code",
   "execution_count": 16,
   "id": "e1adba63",
   "metadata": {},
   "outputs": [
    {
     "data": {
      "text/plain": [
       "array([1, 2, 3, 4, 5])"
      ]
     },
     "execution_count": 16,
     "metadata": {},
     "output_type": "execute_result"
    }
   ],
   "source": [
    "b"
   ]
  },
  {
   "cell_type": "code",
   "execution_count": 17,
   "id": "02d0ffaa",
   "metadata": {},
   "outputs": [
    {
     "data": {
      "text/plain": [
       "array([11, 22, 33, 44, 55])"
      ]
     },
     "execution_count": 17,
     "metadata": {},
     "output_type": "execute_result"
    }
   ],
   "source": [
    "a + b"
   ]
  },
  {
   "cell_type": "code",
   "execution_count": 18,
   "id": "14660733",
   "metadata": {},
   "outputs": [
    {
     "data": {
      "text/plain": [
       "array([ 9, 18, 27, 36, 45])"
      ]
     },
     "execution_count": 18,
     "metadata": {},
     "output_type": "execute_result"
    }
   ],
   "source": [
    "a - b"
   ]
  },
  {
   "cell_type": "code",
   "execution_count": 19,
   "id": "cff412d6",
   "metadata": {},
   "outputs": [
    {
     "data": {
      "text/plain": [
       "array([ 10,  40,  90, 160, 250])"
      ]
     },
     "execution_count": 19,
     "metadata": {},
     "output_type": "execute_result"
    }
   ],
   "source": [
    "a * b"
   ]
  },
  {
   "cell_type": "code",
   "execution_count": 20,
   "id": "4540f071",
   "metadata": {},
   "outputs": [
    {
     "data": {
      "text/plain": [
       "array([ 1,  4,  9, 16, 25])"
      ]
     },
     "execution_count": 20,
     "metadata": {},
     "output_type": "execute_result"
    }
   ],
   "source": [
    "b**2"
   ]
  },
  {
   "cell_type": "code",
   "execution_count": 21,
   "id": "0ebb72a1",
   "metadata": {},
   "outputs": [
    {
     "data": {
      "text/plain": [
       "array([  1000,   8000,  27000,  64000, 125000])"
      ]
     },
     "execution_count": 21,
     "metadata": {},
     "output_type": "execute_result"
    }
   ],
   "source": [
    "a**3"
   ]
  },
  {
   "cell_type": "code",
   "execution_count": 22,
   "id": "6458ce8e",
   "metadata": {},
   "outputs": [
    {
     "data": {
      "text/plain": [
       "array([False, False,  True,  True,  True])"
      ]
     },
     "execution_count": 22,
     "metadata": {},
     "output_type": "execute_result"
    }
   ],
   "source": [
    "# Masking\n",
    "a > 23"
   ]
  },
  {
   "cell_type": "code",
   "execution_count": 24,
   "id": "0841a003",
   "metadata": {},
   "outputs": [
    {
     "data": {
      "text/plain": [
       "array([0.        , 0.69314718, 1.09861229, 1.38629436, 1.60943791])"
      ]
     },
     "execution_count": 24,
     "metadata": {},
     "output_type": "execute_result"
    }
   ],
   "source": [
    "np.log(b)"
   ]
  },
  {
   "cell_type": "code",
   "execution_count": 25,
   "id": "ae5b5f60",
   "metadata": {},
   "outputs": [
    {
     "data": {
      "text/plain": [
       "array([ 0.84147098,  0.90929743,  0.14112001, -0.7568025 , -0.95892427])"
      ]
     },
     "execution_count": 25,
     "metadata": {},
     "output_type": "execute_result"
    }
   ],
   "source": [
    "np.sin(b)"
   ]
  },
  {
   "cell_type": "markdown",
   "id": "3330cf40",
   "metadata": {},
   "source": [
    "# Matrix Product"
   ]
  },
  {
   "cell_type": "code",
   "execution_count": 26,
   "id": "d9a2c8b5",
   "metadata": {},
   "outputs": [],
   "source": [
    "A = np.random.randint(0, 5, (3,4))\n",
    "B = np.random.randint(0, 5, (4,2))"
   ]
  },
  {
   "cell_type": "code",
   "execution_count": 27,
   "id": "5820ad84",
   "metadata": {},
   "outputs": [
    {
     "data": {
      "text/plain": [
       "array([[2, 0, 2, 4],\n",
       "       [2, 2, 3, 1],\n",
       "       [0, 1, 2, 4]])"
      ]
     },
     "execution_count": 27,
     "metadata": {},
     "output_type": "execute_result"
    }
   ],
   "source": [
    "A"
   ]
  },
  {
   "cell_type": "code",
   "execution_count": 28,
   "id": "2807f6b0",
   "metadata": {},
   "outputs": [
    {
     "data": {
      "text/plain": [
       "array([[1, 3],\n",
       "       [3, 2],\n",
       "       [2, 2],\n",
       "       [0, 0]])"
      ]
     },
     "execution_count": 28,
     "metadata": {},
     "output_type": "execute_result"
    }
   ],
   "source": [
    "B"
   ]
  },
  {
   "cell_type": "code",
   "execution_count": 32,
   "id": "b9264f80",
   "metadata": {},
   "outputs": [
    {
     "data": {
      "text/plain": [
       "array([[ 6, 10],\n",
       "       [14, 16],\n",
       "       [ 7,  6]])"
      ]
     },
     "execution_count": 32,
     "metadata": {},
     "output_type": "execute_result"
    }
   ],
   "source": [
    "# Dot Product\n",
    "np.dot(A,B)"
   ]
  },
  {
   "cell_type": "markdown",
   "id": "01f64c7f",
   "metadata": {},
   "source": [
    "<h3>More Operations On Array </h3>"
   ]
  },
  {
   "cell_type": "code",
   "execution_count": 2,
   "id": "89ad5a34",
   "metadata": {},
   "outputs": [],
   "source": [
    "A = np.arange(0,24)"
   ]
  },
  {
   "cell_type": "code",
   "execution_count": 3,
   "id": "30b1feee",
   "metadata": {},
   "outputs": [
    {
     "data": {
      "text/plain": [
       "array([ 0,  1,  2,  3,  4,  5,  6,  7,  8,  9, 10, 11, 12, 13, 14, 15, 16,\n",
       "       17, 18, 19, 20, 21, 22, 23])"
      ]
     },
     "execution_count": 3,
     "metadata": {},
     "output_type": "execute_result"
    }
   ],
   "source": [
    "A"
   ]
  },
  {
   "cell_type": "code",
   "execution_count": 4,
   "id": "a8f0abe0",
   "metadata": {},
   "outputs": [
    {
     "data": {
      "text/plain": [
       "(24,)"
      ]
     },
     "execution_count": 4,
     "metadata": {},
     "output_type": "execute_result"
    }
   ],
   "source": [
    "# 1-D shape\n",
    "A.shape"
   ]
  },
  {
   "cell_type": "code",
   "execution_count": 6,
   "id": "818196a6",
   "metadata": {},
   "outputs": [],
   "source": [
    "A = A.reshape(6,4)"
   ]
  },
  {
   "cell_type": "code",
   "execution_count": 7,
   "id": "6d83c003",
   "metadata": {},
   "outputs": [
    {
     "data": {
      "text/plain": [
       "array([[ 0,  1,  2,  3],\n",
       "       [ 4,  5,  6,  7],\n",
       "       [ 8,  9, 10, 11],\n",
       "       [12, 13, 14, 15],\n",
       "       [16, 17, 18, 19],\n",
       "       [20, 21, 22, 23]])"
      ]
     },
     "execution_count": 7,
     "metadata": {},
     "output_type": "execute_result"
    }
   ],
   "source": [
    "A"
   ]
  },
  {
   "cell_type": "code",
   "execution_count": 8,
   "id": "d9903027",
   "metadata": {},
   "outputs": [
    {
     "data": {
      "text/plain": [
       "(6, 4)"
      ]
     },
     "execution_count": 8,
     "metadata": {},
     "output_type": "execute_result"
    }
   ],
   "source": [
    "A.shape"
   ]
  },
  {
   "cell_type": "code",
   "execution_count": 9,
   "id": "a4b3e6ec",
   "metadata": {},
   "outputs": [
    {
     "data": {
      "text/plain": [
       "array([[0.        , 1.        , 1.41421356, 1.73205081],\n",
       "       [2.        , 2.23606798, 2.44948974, 2.64575131],\n",
       "       [2.82842712, 3.        , 3.16227766, 3.31662479],\n",
       "       [3.46410162, 3.60555128, 3.74165739, 3.87298335],\n",
       "       [4.        , 4.12310563, 4.24264069, 4.35889894],\n",
       "       [4.47213595, 4.58257569, 4.69041576, 4.79583152]])"
      ]
     },
     "execution_count": 9,
     "metadata": {},
     "output_type": "execute_result"
    }
   ],
   "source": [
    "np.sqrt(A)"
   ]
  },
  {
   "cell_type": "code",
   "execution_count": 10,
   "id": "594f65ce",
   "metadata": {},
   "outputs": [
    {
     "data": {
      "text/plain": [
       "276"
      ]
     },
     "execution_count": 10,
     "metadata": {},
     "output_type": "execute_result"
    }
   ],
   "source": [
    "np.sum(A)"
   ]
  },
  {
   "cell_type": "code",
   "execution_count": 11,
   "id": "c62b4a2a",
   "metadata": {},
   "outputs": [
    {
     "data": {
      "text/plain": [
       "23"
      ]
     },
     "execution_count": 11,
     "metadata": {},
     "output_type": "execute_result"
    }
   ],
   "source": [
    "np.max(A)"
   ]
  },
  {
   "cell_type": "code",
   "execution_count": 12,
   "id": "431693f2",
   "metadata": {},
   "outputs": [
    {
     "data": {
      "text/plain": [
       "0"
      ]
     },
     "execution_count": 12,
     "metadata": {},
     "output_type": "execute_result"
    }
   ],
   "source": [
    "np.min(A)"
   ]
  },
  {
   "cell_type": "code",
   "execution_count": 13,
   "id": "6f22b9f2",
   "metadata": {},
   "outputs": [
    {
     "data": {
      "text/plain": [
       "6.922186552431729"
      ]
     },
     "execution_count": 13,
     "metadata": {},
     "output_type": "execute_result"
    }
   ],
   "source": [
    "# Standard Deviation\n",
    "np.std(A)"
   ]
  },
  {
   "cell_type": "code",
   "execution_count": 14,
   "id": "0fae541d",
   "metadata": {},
   "outputs": [
    {
     "data": {
      "text/plain": [
       "array([[ 0,  1,  2,  3],\n",
       "       [ 4,  5,  6,  7],\n",
       "       [ 8,  9, 10, 11],\n",
       "       [12, 13, 14, 15],\n",
       "       [16, 17, 18, 19],\n",
       "       [20, 21, 22, 23]])"
      ]
     },
     "execution_count": 14,
     "metadata": {},
     "output_type": "execute_result"
    }
   ],
   "source": [
    "A"
   ]
  },
  {
   "cell_type": "code",
   "execution_count": 15,
   "id": "7882c5b2",
   "metadata": {},
   "outputs": [
    {
     "data": {
      "text/plain": [
       "array([60, 66, 72, 78])"
      ]
     },
     "execution_count": 15,
     "metadata": {},
     "output_type": "execute_result"
    }
   ],
   "source": [
    "# sum across row\n",
    "np.sum(A, axis = 0)"
   ]
  },
  {
   "cell_type": "code",
   "execution_count": 16,
   "id": "b6eafdde",
   "metadata": {},
   "outputs": [
    {
     "data": {
      "text/plain": [
       "array([ 6, 22, 38, 54, 70, 86])"
      ]
     },
     "execution_count": 16,
     "metadata": {},
     "output_type": "execute_result"
    }
   ],
   "source": [
    "# sum across column\n",
    "np.sum(A, axis = 1)"
   ]
  },
  {
   "cell_type": "code",
   "execution_count": 18,
   "id": "6e24250c",
   "metadata": {},
   "outputs": [
    {
     "data": {
      "text/plain": [
       "array([ 1.5,  5.5,  9.5, 13.5, 17.5, 21.5])"
      ]
     },
     "execution_count": 18,
     "metadata": {},
     "output_type": "execute_result"
    }
   ],
   "source": [
    "np.mean(A, axis = 1)"
   ]
  },
  {
   "cell_type": "markdown",
   "id": "7d6b92f2",
   "metadata": {},
   "source": [
    "# Shape Manipulation"
   ]
  },
  {
   "cell_type": "code",
   "execution_count": 19,
   "id": "7f490a24",
   "metadata": {},
   "outputs": [
    {
     "data": {
      "text/plain": [
       "array([[ 0,  1,  2,  3],\n",
       "       [ 4,  5,  6,  7],\n",
       "       [ 8,  9, 10, 11],\n",
       "       [12, 13, 14, 15],\n",
       "       [16, 17, 18, 19],\n",
       "       [20, 21, 22, 23]])"
      ]
     },
     "execution_count": 19,
     "metadata": {},
     "output_type": "execute_result"
    }
   ],
   "source": [
    "A"
   ]
  },
  {
   "cell_type": "code",
   "execution_count": 20,
   "id": "68aa55a2",
   "metadata": {},
   "outputs": [
    {
     "data": {
      "text/plain": [
       "array([ 0,  1,  2,  3,  4,  5,  6,  7,  8,  9, 10, 11, 12, 13, 14, 15, 16,\n",
       "       17, 18, 19, 20, 21, 22, 23])"
      ]
     },
     "execution_count": 20,
     "metadata": {},
     "output_type": "execute_result"
    }
   ],
   "source": [
    "# To flatten array i.e 1-D array\n",
    "A.flatten()"
   ]
  },
  {
   "cell_type": "code",
   "execution_count": 21,
   "id": "357d0dfb",
   "metadata": {},
   "outputs": [
    {
     "data": {
      "text/plain": [
       "array([[ 0,  1,  2],\n",
       "       [ 3,  4,  5],\n",
       "       [ 6,  7,  8],\n",
       "       [ 9, 10, 11],\n",
       "       [12, 13, 14],\n",
       "       [15, 16, 17],\n",
       "       [18, 19, 20],\n",
       "       [21, 22, 23]])"
      ]
     },
     "execution_count": 21,
     "metadata": {},
     "output_type": "execute_result"
    }
   ],
   "source": [
    "A.reshape(8,3)"
   ]
  },
  {
   "cell_type": "code",
   "execution_count": 23,
   "id": "5e4ff9d1",
   "metadata": {},
   "outputs": [
    {
     "data": {
      "text/plain": [
       "array([[ 0,  4,  8, 12, 16, 20],\n",
       "       [ 1,  5,  9, 13, 17, 21],\n",
       "       [ 2,  6, 10, 14, 18, 22],\n",
       "       [ 3,  7, 11, 15, 19, 23]])"
      ]
     },
     "execution_count": 23,
     "metadata": {},
     "output_type": "execute_result"
    }
   ],
   "source": [
    "# Transpose Rows become Columns and Columns become Rows\n",
    "A.T"
   ]
  },
  {
   "cell_type": "code",
   "execution_count": 24,
   "id": "38d1ccdc",
   "metadata": {},
   "outputs": [
    {
     "data": {
      "text/plain": [
       "array([[ 0,  4,  8, 12, 16, 20],\n",
       "       [ 1,  5,  9, 13, 17, 21],\n",
       "       [ 2,  6, 10, 14, 18, 22],\n",
       "       [ 3,  7, 11, 15, 19, 23]])"
      ]
     },
     "execution_count": 24,
     "metadata": {},
     "output_type": "execute_result"
    }
   ],
   "source": [
    "np.transpose(A)"
   ]
  },
  {
   "cell_type": "markdown",
   "id": "50c095c6",
   "metadata": {},
   "source": [
    "<h2>Stacking Of Arrays</h2> Vstack - Hstack"
   ]
  },
  {
   "cell_type": "code",
   "execution_count": 25,
   "id": "8ab86a14",
   "metadata": {},
   "outputs": [],
   "source": [
    "a = np.random.randint(0,10 ,(2,2))\n",
    "b = np.random.randint(0,10 ,(2,2))"
   ]
  },
  {
   "cell_type": "code",
   "execution_count": 26,
   "id": "49e25ad0",
   "metadata": {},
   "outputs": [
    {
     "data": {
      "text/plain": [
       "array([[2, 1],\n",
       "       [3, 6]])"
      ]
     },
     "execution_count": 26,
     "metadata": {},
     "output_type": "execute_result"
    }
   ],
   "source": [
    "a"
   ]
  },
  {
   "cell_type": "code",
   "execution_count": 27,
   "id": "018aea07",
   "metadata": {},
   "outputs": [
    {
     "data": {
      "text/plain": [
       "array([[3, 6],\n",
       "       [1, 1]])"
      ]
     },
     "execution_count": 27,
     "metadata": {},
     "output_type": "execute_result"
    }
   ],
   "source": [
    "b"
   ]
  },
  {
   "cell_type": "code",
   "execution_count": 28,
   "id": "fd33837a",
   "metadata": {},
   "outputs": [
    {
     "data": {
      "text/plain": [
       "array([[2, 1, 3, 6],\n",
       "       [3, 6, 1, 1]])"
      ]
     },
     "execution_count": 28,
     "metadata": {},
     "output_type": "execute_result"
    }
   ],
   "source": [
    "# Horizontal \n",
    "np.hstack((a,b))"
   ]
  },
  {
   "cell_type": "code",
   "execution_count": 29,
   "id": "ab6882f0",
   "metadata": {},
   "outputs": [
    {
     "data": {
      "text/plain": [
       "array([[2, 1],\n",
       "       [3, 6],\n",
       "       [3, 6],\n",
       "       [1, 1]])"
      ]
     },
     "execution_count": 29,
     "metadata": {},
     "output_type": "execute_result"
    }
   ],
   "source": [
    "# Vertical\n",
    "np.vstack((a,b))"
   ]
  },
  {
   "cell_type": "markdown",
   "id": "b7d3eb1b",
   "metadata": {},
   "source": [
    "# Broadcasting\n",
    "- First Rule Of NumPy - 2 Arrays can perform operations only when they have same shapes.\n",
    "- Broadcasting let two arrays of different shapes to do some operations.\n",
    "    - A small array will repeat itself and convert to same shape as of another array."
   ]
  },
  {
   "cell_type": "code",
   "execution_count": 38,
   "id": "e1929320",
   "metadata": {},
   "outputs": [],
   "source": [
    "A = np.random.randint(0, 10, (3,3))\n",
    "a = np.array([[1, 2, 3]])"
   ]
  },
  {
   "cell_type": "code",
   "execution_count": 39,
   "id": "12792d7d",
   "metadata": {},
   "outputs": [
    {
     "data": {
      "text/plain": [
       "array([[8, 5, 2],\n",
       "       [5, 7, 8],\n",
       "       [5, 4, 6]])"
      ]
     },
     "execution_count": 39,
     "metadata": {},
     "output_type": "execute_result"
    }
   ],
   "source": [
    "A"
   ]
  },
  {
   "cell_type": "code",
   "execution_count": 40,
   "id": "da49f630",
   "metadata": {},
   "outputs": [
    {
     "data": {
      "text/plain": [
       "array([[1, 2, 3]])"
      ]
     },
     "execution_count": 40,
     "metadata": {},
     "output_type": "execute_result"
    }
   ],
   "source": [
    "a"
   ]
  },
  {
   "cell_type": "code",
   "execution_count": 41,
   "id": "f2f2935f",
   "metadata": {},
   "outputs": [
    {
     "name": "stdout",
     "output_type": "stream",
     "text": [
      "(3, 3) (1, 3)\n"
     ]
    }
   ],
   "source": [
    "print(A.shape, a.shape)"
   ]
  },
  {
   "cell_type": "code",
   "execution_count": 42,
   "id": "2e795450",
   "metadata": {},
   "outputs": [
    {
     "data": {
      "text/plain": [
       "array([[ 9,  7,  5],\n",
       "       [ 6,  9, 11],\n",
       "       [ 6,  6,  9]])"
      ]
     },
     "execution_count": 42,
     "metadata": {},
     "output_type": "execute_result"
    }
   ],
   "source": [
    "A + a"
   ]
  },
  {
   "cell_type": "code",
   "execution_count": 43,
   "id": "a123778b",
   "metadata": {},
   "outputs": [
    {
     "data": {
      "text/plain": [
       "array([[1],\n",
       "       [2],\n",
       "       [3]])"
      ]
     },
     "execution_count": 43,
     "metadata": {},
     "output_type": "execute_result"
    }
   ],
   "source": [
    "a.T"
   ]
  },
  {
   "cell_type": "code",
   "execution_count": 44,
   "id": "68c0624a",
   "metadata": {},
   "outputs": [
    {
     "data": {
      "text/plain": [
       "array([[ 9,  6,  3],\n",
       "       [ 7,  9, 10],\n",
       "       [ 8,  7,  9]])"
      ]
     },
     "execution_count": 44,
     "metadata": {},
     "output_type": "execute_result"
    }
   ],
   "source": [
    "A + a.T"
   ]
  },
  {
   "cell_type": "code",
   "execution_count": 45,
   "id": "22d23219",
   "metadata": {},
   "outputs": [
    {
     "data": {
      "text/plain": [
       "array([[8, 5, 2],\n",
       "       [5, 7, 8],\n",
       "       [5, 4, 6]])"
      ]
     },
     "execution_count": 45,
     "metadata": {},
     "output_type": "execute_result"
    }
   ],
   "source": [
    "A"
   ]
  },
  {
   "cell_type": "code",
   "execution_count": 47,
   "id": "93353f7b",
   "metadata": {},
   "outputs": [
    {
     "data": {
      "text/plain": [
       "array([[12,  9,  6],\n",
       "       [ 9, 11, 12],\n",
       "       [ 9,  8, 10]])"
      ]
     },
     "execution_count": 47,
     "metadata": {},
     "output_type": "execute_result"
    }
   ],
   "source": [
    "# Add 4 to each Element\n",
    "A + 4"
   ]
  },
  {
   "cell_type": "markdown",
   "id": "f2c57aaa",
   "metadata": {},
   "source": [
    "# Vectorization\n",
    "- Performing Operations Directly on Array"
   ]
  },
  {
   "cell_type": "code",
   "execution_count": 49,
   "id": "149d7841",
   "metadata": {},
   "outputs": [],
   "source": [
    "p1 = np.array([1,2])\n",
    "p2 = np.array([5,5])"
   ]
  },
  {
   "cell_type": "code",
   "execution_count": 50,
   "id": "fa161667",
   "metadata": {},
   "outputs": [
    {
     "name": "stdout",
     "output_type": "stream",
     "text": [
      "5.0\n"
     ]
    }
   ],
   "source": [
    "s = 0\n",
    "for i in range(2):\n",
    "    s += (p2[i] - p1[i])**2\n",
    "    \n",
    "print(s**0.5)    "
   ]
  },
  {
   "cell_type": "code",
   "execution_count": 51,
   "id": "566cd014",
   "metadata": {},
   "outputs": [
    {
     "data": {
      "text/plain": [
       "5.0"
      ]
     },
     "execution_count": 51,
     "metadata": {},
     "output_type": "execute_result"
    }
   ],
   "source": [
    "# Efficient because of vectorization\n",
    "np.sqrt(np.sum((p2-p1)**2))"
   ]
  },
  {
   "cell_type": "code",
   "execution_count": null,
   "id": "0a0ed53a",
   "metadata": {},
   "outputs": [],
   "source": []
  }
 ],
 "metadata": {
  "kernelspec": {
   "display_name": "Python 3 (ipykernel)",
   "language": "python",
   "name": "python3"
  },
  "language_info": {
   "codemirror_mode": {
    "name": "ipython",
    "version": 3
   },
   "file_extension": ".py",
   "mimetype": "text/x-python",
   "name": "python",
   "nbconvert_exporter": "python",
   "pygments_lexer": "ipython3",
   "version": "3.9.13"
  }
 },
 "nbformat": 4,
 "nbformat_minor": 5
}
